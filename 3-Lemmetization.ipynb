{
 "cells": [
  {
   "cell_type": "markdown",
   "metadata": {},
   "source": [
    "#### Lemmatization"
   ]
  },
  {
   "cell_type": "markdown",
   "metadata": {},
   "source": [
    "**Lemmatization** is a text preprocessing technique in Natural Language Processing (NLP) that reduces a word to its base or root form (known as a lemma) while ensuring that the resulting word is a valid word in the language.  \n",
    "\n",
    "**Difference Between Lemmatization and Stemming:**  \n",
    "- Stemming: Cuts off prefixes or suffixes to produce a base form, which may not be a valid word (e.g., \"running\" → \"run\").\n",
    "- Lemmatization: Uses linguistic rules and vocabulary to find the proper root form, ensuring the output is meaningful (e.g., \"better\" → \"good\").      \n",
    "\n",
    "- Unlike stemming, lemmatization uses linguistic rules and a vocabulary to ensure the word is valid and meaningful.\n",
    "  \n",
    "**Purpose of Lemmatization:**  \n",
    "- Normalize words for analysis (e.g., run, running, ran → run).\n",
    "- Retain context by using valid dictionary words.\n",
    "\n",
    "**With POS Tags for Better Accuracy:**  \n",
    "Lemmatization performs better when provided with the part of speech (POS) of the word.\n",
    "\n",
    "**Why Use POS Tags?**  \n",
    "Lemmatization performs better when given the correct Part of Speech (POS) because the same word can have different lemmas depending on its role in a sentence.  \n",
    "\n",
    "**For example:**  \n",
    "  \n",
    "Verb: \"running\" → \"run\"\n",
    "Noun: \"running\" → \"running\" (if interpreted as a noun)\n",
    "  \n",
    "**POS Tags:**  \n",
    "\n",
    "- \"n\": Noun\n",
    "- \"v\": Verb\n",
    "- \"a\": Adjective\n",
    "- \"r\": Adverb"
   ]
  },
  {
   "cell_type": "code",
   "execution_count": 1,
   "metadata": {},
   "outputs": [],
   "source": [
    "# WordNetLemmatizer\n",
    "from nltk.stem import WordNetLemmatizer\n",
    "from nltk.corpus import wordnet\n",
    "import nltk"
   ]
  },
  {
   "cell_type": "code",
   "execution_count": 2,
   "metadata": {},
   "outputs": [
    {
     "name": "stderr",
     "output_type": "stream",
     "text": [
      "[nltk_data] Downloading package wordnet to\n",
      "[nltk_data]     C:\\Users\\Dell\\AppData\\Roaming\\nltk_data...\n",
      "[nltk_data]   Package wordnet is already up-to-date!\n",
      "[nltk_data] Downloading package omw-1.4 to\n",
      "[nltk_data]     C:\\Users\\Dell\\AppData\\Roaming\\nltk_data...\n",
      "[nltk_data]   Package omw-1.4 is already up-to-date!\n"
     ]
    },
    {
     "data": {
      "text/plain": [
       "True"
      ]
     },
     "execution_count": 2,
     "metadata": {},
     "output_type": "execute_result"
    }
   ],
   "source": [
    "# Download WordNet data\n",
    "nltk.download('wordnet')\n",
    "nltk.download('omw-1.4')"
   ]
  },
  {
   "cell_type": "code",
   "execution_count": 3,
   "metadata": {},
   "outputs": [],
   "source": [
    "# Create a lemmatizer\n",
    "lemmatizer = WordNetLemmatizer()"
   ]
  },
  {
   "cell_type": "code",
   "execution_count": 4,
   "metadata": {},
   "outputs": [],
   "source": [
    "# Lemmatize words without specifying POS\n",
    "words = [\"running\", \"ran\", \"easily\", \"fairness\", \"better\", \"children\"]\n",
    "lemmatized = [lemmatizer.lemmatize(word) for word in words]"
   ]
  },
  {
   "cell_type": "code",
   "execution_count": 5,
   "metadata": {},
   "outputs": [
    {
     "name": "stdout",
     "output_type": "stream",
     "text": [
      "Without POS: ['running', 'ran', 'easily', 'fairness', 'better', 'child']\n"
     ]
    }
   ],
   "source": [
    "print(\"Without POS:\", lemmatized)"
   ]
  },
  {
   "cell_type": "code",
   "execution_count": 6,
   "metadata": {},
   "outputs": [
    {
     "name": "stdout",
     "output_type": "stream",
     "text": [
      "With POS:\n",
      "run\n",
      "good\n",
      "child\n"
     ]
    }
   ],
   "source": [
    "# Lemmatize words with POS tags\n",
    "print(\"With POS:\")\n",
    "\n",
    "print(lemmatizer.lemmatize(\"running\", pos=\"v\"))  # Verb -> 'run'\n",
    "print(lemmatizer.lemmatize(\"better\", pos=\"a\"))  # Adjective -> 'good'\n",
    "print(lemmatizer.lemmatize(\"children\", pos=\"n\"))  # Noun -> 'child'"
   ]
  },
  {
   "cell_type": "markdown",
   "metadata": {},
   "source": [
    "# End!"
   ]
  }
 ],
 "metadata": {
  "kernelspec": {
   "display_name": "nltk_env",
   "language": "python",
   "name": "python3"
  },
  "language_info": {
   "codemirror_mode": {
    "name": "ipython",
    "version": 3
   },
   "file_extension": ".py",
   "mimetype": "text/x-python",
   "name": "python",
   "nbconvert_exporter": "python",
   "pygments_lexer": "ipython3",
   "version": "3.10.11"
  }
 },
 "nbformat": 4,
 "nbformat_minor": 2
}
