{
 "cells": [
  {
   "cell_type": "markdown",
   "metadata": {},
   "source": [
    "### TF-IDF\n",
    "\n",
    "- **TF** stands for **Term Frequency**  \n",
    "TF = No. of repeatitions of a word in a sentence/No. of sentences\n",
    "    \n",
    "- **IDF** stands for **Inverse Document Frequency**  \n",
    "IDF = No. of sentences/No. of sentences containing a word"
   ]
  },
  {
   "cell_type": "code",
   "execution_count": 7,
   "metadata": {},
   "outputs": [
    {
     "name": "stdout",
     "output_type": "stream",
     "text": [
      "Vocabulary: ['but' 'fantastic' 'great' 'hated' 'it' 'loved' 'movie' 'not' 'okay'\n",
      " 'terrible' 'the' 'was']\n",
      " \n",
      "Document-Term Matrix:\n",
      " [[0.         0.52523431 0.         0.         0.39945423 0.52523431\n",
      "  0.31021184 0.         0.         0.         0.31021184 0.31021184]\n",
      " [0.44514923 0.         0.44514923 0.         0.         0.\n",
      "  0.26291231 0.44514923 0.44514923 0.         0.26291231 0.26291231]\n",
      " [0.         0.         0.         0.52523431 0.39945423 0.\n",
      "  0.31021184 0.         0.         0.52523431 0.31021184 0.31021184]]\n",
      "(3, 12)\n"
     ]
    }
   ],
   "source": [
    "##\n",
    "\n",
    "from sklearn.feature_extraction.text import TfidfVectorizer\n",
    "# Sample corpus of movie reviews\n",
    "corpus = [\n",
    "    \"I loved the movie, it was fantastic!\",\n",
    "    \"The movie was okay, but not great.\",\n",
    "    \"I hated the movie, it was terrible.\",\n",
    "]\n",
    "\n",
    "# Initialize the TfidfVectorizer\n",
    "vectorizer = TfidfVectorizer()\n",
    "\n",
    "# Fit and transform the corpus to a document-term matrix\n",
    "X = vectorizer.fit_transform(corpus)\n",
    "\n",
    "# Convert the document-term matrix into a dense format (optional for visualization)\n",
    "X_dense = X.toarray()\n",
    "\n",
    "# Get the vocabulary (mapping of words to index positions)\n",
    "vocab = vectorizer.get_feature_names_out()\n",
    "\n",
    "# Print the vocabulary and document-term matrix\n",
    "print(\"Vocabulary:\", vocab)\n",
    "print(\" \")\n",
    "print(\"Document-Term Matrix:\\n\", X_dense)\n",
    "print(X_dense.shape)   # 3 obs and 12 vocab "
   ]
  },
  {
   "cell_type": "code",
   "execution_count": 8,
   "metadata": {},
   "outputs": [
    {
     "name": "stdout",
     "output_type": "stream",
     "text": [
      "Vocabulary: ['but not' 'hated the' 'it was' 'loved the' 'movie it' 'movie was'\n",
      " 'not great' 'okay but' 'the movie' 'was fantastic' 'was okay'\n",
      " 'was terrible']\n",
      " \n",
      "Document-Term Matrix:\n",
      " [[0.         0.         0.40619178 0.53409337 0.40619178 0.\n",
      "  0.         0.         0.31544415 0.53409337 0.         0.        ]\n",
      " [0.43238509 0.         0.         0.         0.         0.43238509\n",
      "  0.43238509 0.43238509 0.2553736  0.         0.43238509 0.        ]\n",
      " [0.         0.53409337 0.40619178 0.         0.40619178 0.\n",
      "  0.         0.         0.31544415 0.         0.         0.53409337]]\n",
      "(3, 12)\n"
     ]
    }
   ],
   "source": [
    "## Bigrams\n",
    "\n",
    "from sklearn.feature_extraction.text import TfidfVectorizer\n",
    "# Sample corpus of movie reviews\n",
    "corpus = [\n",
    "    \"I loved the movie, it was fantastic!\",\n",
    "    \"The movie was okay, but not great.\",\n",
    "    \"I hated the movie, it was terrible.\",\n",
    "]\n",
    "\n",
    "# Initialize the TfidfVectorizer\n",
    "vectorizer = TfidfVectorizer(ngram_range=(2,2))\n",
    "\n",
    "# Fit and transform the corpus to a document-term matrix\n",
    "X = vectorizer.fit_transform(corpus)\n",
    "\n",
    "# Convert the document-term matrix into a dense format (optional for visualization)\n",
    "X_dense = X.toarray()\n",
    "\n",
    "# Get the vocabulary (mapping of words to index positions)\n",
    "vocab = vectorizer.get_feature_names_out()\n",
    "\n",
    "# Print the vocabulary and document-term matrix\n",
    "print(\"Vocabulary:\", vocab)\n",
    "print(\" \")\n",
    "print(\"Document-Term Matrix:\\n\", X_dense)\n",
    "print(X_dense.shape)   # 3 obs and 12 vocab "
   ]
  },
  {
   "cell_type": "markdown",
   "metadata": {},
   "source": [
    "# End!"
   ]
  }
 ],
 "metadata": {
  "kernelspec": {
   "display_name": "nltk_env",
   "language": "python",
   "name": "python3"
  },
  "language_info": {
   "codemirror_mode": {
    "name": "ipython",
    "version": 3
   },
   "file_extension": ".py",
   "mimetype": "text/x-python",
   "name": "python",
   "nbconvert_exporter": "python",
   "pygments_lexer": "ipython3",
   "version": "3.10.11"
  }
 },
 "nbformat": 4,
 "nbformat_minor": 2
}
