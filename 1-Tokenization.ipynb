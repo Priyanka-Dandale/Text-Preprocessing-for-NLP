{
 "cells": [
  {
   "cell_type": "markdown",
   "metadata": {},
   "source": [
    "### Tokenization"
   ]
  },
  {
   "cell_type": "markdown",
   "metadata": {},
   "source": [
    "**Tokenization** is the process of breaking down text into smaller units called tokens. These tokens can be words, phrases, or characters, depending on the type of tokenization.\n",
    "\n",
    "**Purpose of Tokenization:**<br>\n",
    "Tokenization is a fundamental step in Natural Language Processing (NLP) to prepare text for analysis or further processing, such as:\n",
    "\n",
    "- Text classification  \n",
    "- Sentiment analysis  \n",
    "- Machine translation  \n",
    "\n",
    "**Types of Tokenization:**<br>\n",
    "- Word Tokenization:\n",
    "\n",
    "    Splits text into individual words.  \n",
    "    Example: \"Hello, world!\" → [\"Hello\", \",\", \"world\", \"!\"]\n",
    "\n",
    "- Sentence Tokenization:\n",
    "\n",
    "    Splits text into sentences.  \n",
    "    Example: \"Hello world! How are you?\" → [\"Hello world!\", \"How are you?\"]\n",
    "\n",
    "- Character Tokenization:\n",
    "\n",
    "    Splits text into individual characters.  \n",
    "    Example: \"Hello\" → [\"H\", \"e\", \"l\", \"l\", \"o\"]"
   ]
  },
  {
   "cell_type": "code",
   "execution_count": 1,
   "metadata": {},
   "outputs": [
    {
     "name": "stdout",
     "output_type": "stream",
     "text": [
      "Requirement already satisfied: nltk in c:\\users\\dell\\anaconda3\\lib\\site-packages (3.7)\n",
      "Requirement already satisfied: click in c:\\users\\dell\\anaconda3\\lib\\site-packages (from nltk) (8.0.4)\n",
      "Requirement already satisfied: joblib in c:\\users\\dell\\anaconda3\\lib\\site-packages (from nltk) (1.1.1)\n",
      "Requirement already satisfied: tqdm in c:\\users\\dell\\anaconda3\\lib\\site-packages (from nltk) (4.64.1)\n",
      "Requirement already satisfied: regex>=2021.8.3 in c:\\users\\dell\\anaconda3\\lib\\site-packages (from nltk) (2022.7.9)\n",
      "Requirement already satisfied: colorama in c:\\users\\dell\\anaconda3\\lib\\site-packages (from click->nltk) (0.4.6)\n"
     ]
    }
   ],
   "source": [
    "!pip install nltk"
   ]
  },
  {
   "cell_type": "code",
   "execution_count": 2,
   "metadata": {},
   "outputs": [],
   "source": [
    "corpus = \"\"\"I am Priyanka Dandale,\n",
    "I am a AI enthusiast person! \n",
    "I am currently working as a data scientist. It's great to learn about AI.\"\"\""
   ]
  },
  {
   "cell_type": "code",
   "execution_count": 3,
   "metadata": {},
   "outputs": [
    {
     "name": "stdout",
     "output_type": "stream",
     "text": [
      "I am Priyanka Dandale,\n",
      "I am a AI enthusiast person! \n",
      "I am currently working as a data scientist. It's great to learn about AI.\n"
     ]
    }
   ],
   "source": [
    "print(corpus)"
   ]
  },
  {
   "cell_type": "code",
   "execution_count": 4,
   "metadata": {},
   "outputs": [],
   "source": [
    "# import nltk\n",
    "# nltk.download('punkt')"
   ]
  },
  {
   "cell_type": "markdown",
   "metadata": {},
   "source": [
    "##### Sentence Tokenization"
   ]
  },
  {
   "cell_type": "code",
   "execution_count": 5,
   "metadata": {},
   "outputs": [],
   "source": [
    "from nltk.tokenize import sent_tokenize"
   ]
  },
  {
   "cell_type": "code",
   "execution_count": 6,
   "metadata": {},
   "outputs": [
    {
     "data": {
      "text/plain": [
       "['I am Priyanka Dandale,\\nI am a AI enthusiast person!',\n",
       " 'I am currently working as a data scientist.',\n",
       " \"It's great to learn about AI.\"]"
      ]
     },
     "execution_count": 6,
     "metadata": {},
     "output_type": "execute_result"
    }
   ],
   "source": [
    "#paragraphs/corpus to sentences/documents\n",
    "documents  = sent_tokenize(corpus)\n",
    "documents"
   ]
  },
  {
   "cell_type": "code",
   "execution_count": 7,
   "metadata": {},
   "outputs": [
    {
     "data": {
      "text/plain": [
       "list"
      ]
     },
     "execution_count": 7,
     "metadata": {},
     "output_type": "execute_result"
    }
   ],
   "source": [
    "type(documents)"
   ]
  },
  {
   "cell_type": "code",
   "execution_count": 8,
   "metadata": {},
   "outputs": [
    {
     "name": "stdout",
     "output_type": "stream",
     "text": [
      "I am Priyanka Dandale,\n",
      "I am a AI enthusiast person!\n",
      "I am currently working as a data scientist.\n",
      "It's great to learn about AI.\n"
     ]
    }
   ],
   "source": [
    "for i in documents:\n",
    "    print(i)"
   ]
  },
  {
   "cell_type": "markdown",
   "metadata": {},
   "source": [
    "##### Words Tokenization"
   ]
  },
  {
   "cell_type": "code",
   "execution_count": 9,
   "metadata": {},
   "outputs": [
    {
     "data": {
      "text/plain": [
       "['I',\n",
       " 'am',\n",
       " 'Priyanka',\n",
       " 'Dandale',\n",
       " ',',\n",
       " 'I',\n",
       " 'am',\n",
       " 'a',\n",
       " 'AI',\n",
       " 'enthusiast',\n",
       " 'person',\n",
       " '!',\n",
       " 'I',\n",
       " 'am',\n",
       " 'currently',\n",
       " 'working',\n",
       " 'as',\n",
       " 'a',\n",
       " 'data',\n",
       " 'scientist',\n",
       " '.',\n",
       " 'It',\n",
       " \"'s\",\n",
       " 'great',\n",
       " 'to',\n",
       " 'learn',\n",
       " 'about',\n",
       " 'AI',\n",
       " '.']"
      ]
     },
     "execution_count": 9,
     "metadata": {},
     "output_type": "execute_result"
    }
   ],
   "source": [
    "## paragraphs to words\n",
    "from nltk.tokenize import word_tokenize\n",
    "words = word_tokenize(corpus)\n",
    "words"
   ]
  },
  {
   "cell_type": "code",
   "execution_count": 10,
   "metadata": {},
   "outputs": [
    {
     "name": "stdout",
     "output_type": "stream",
     "text": [
      "['I', 'am', 'Priyanka', 'Dandale', ',', 'I', 'am', 'a', 'AI', 'enthusiast', 'person', '!']\n",
      "['I', 'am', 'currently', 'working', 'as', 'a', 'data', 'scientist', '.']\n",
      "['It', \"'s\", 'great', 'to', 'learn', 'about', 'AI', '.']\n"
     ]
    }
   ],
   "source": [
    "# sentences to words\n",
    "for i in documents:\n",
    "    word_tokens = word_tokenize(i)\n",
    "    print(word_tokens)"
   ]
  },
  {
   "cell_type": "code",
   "execution_count": 11,
   "metadata": {},
   "outputs": [
    {
     "name": "stdout",
     "output_type": "stream",
     "text": [
      "['I', 'am', 'Priyanka', 'Dandale', ',', 'I', 'am', 'a', 'AI', 'enthusiast', 'person', '!']\n",
      "['I', 'am', 'currently', 'working', 'as', 'a', 'data', 'scientist', '.']\n",
      "['It', \"'\", 's', 'great', 'to', 'learn', 'about', 'AI', '.']\n"
     ]
    }
   ],
   "source": [
    "from nltk.tokenize import wordpunct_tokenize\n",
    "\n",
    "for sent in documents:\n",
    "    print(wordpunct_tokenize(sent))   #Observe 's ..here ' and s are separated"
   ]
  },
  {
   "cell_type": "markdown",
   "metadata": {},
   "source": [
    "##### Character Tokenization"
   ]
  },
  {
   "cell_type": "code",
   "execution_count": 14,
   "metadata": {},
   "outputs": [
    {
     "name": "stdout",
     "output_type": "stream",
     "text": [
      "['H', 'e', 'l', 'l', 'o', ',', ' ', 'W', 'o', 'r', 'l', 'd', '!']\n"
     ]
    }
   ],
   "source": [
    "# Input text\n",
    "text = \"Hello, World!\"\n",
    "\n",
    "# Character tokenization: split the string into individual characters\n",
    "char_tokens = list(text)\n",
    "\n",
    "# Print the result\n",
    "print(char_tokens)\n"
   ]
  },
  {
   "cell_type": "markdown",
   "metadata": {},
   "source": [
    "# End!"
   ]
  }
 ],
 "metadata": {
  "kernelspec": {
   "display_name": "base",
   "language": "python",
   "name": "python3"
  },
  "language_info": {
   "codemirror_mode": {
    "name": "ipython",
    "version": 3
   },
   "file_extension": ".py",
   "mimetype": "text/x-python",
   "name": "python",
   "nbconvert_exporter": "python",
   "pygments_lexer": "ipython3",
   "version": "3.10.9"
  }
 },
 "nbformat": 4,
 "nbformat_minor": 2
}
