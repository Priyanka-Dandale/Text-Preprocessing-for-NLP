{
 "cells": [
  {
   "cell_type": "markdown",
   "metadata": {},
   "source": [
    "#### Stemming"
   ]
  },
  {
   "cell_type": "markdown",
   "metadata": {},
   "source": [
    "**Stemming** is a text preprocessing technique in Natural Language Processing (NLP) that reduces a word to its root or base form.  \n",
    "The resulting \"stem\" may not always be a valid word but represents the core meaning of the original word.\n",
    "\n",
    "**Purpose of Stemming:**  \n",
    "Stemming helps in reducing words to a common base to simplify text analysis by:\n",
    "\n",
    "- Removing prefixes and suffixes.\n",
    "- Normalizing words with similar meanings (e.g., run, running, runner → run).\n",
    "- Example:  \n",
    "**Input Words:**    \n",
    "running, runner, ran  \n",
    "**Stemmed Output:**   \n",
    "run\n",
    "\n",
    "**Common Stemming Algorithms:**  \n",
    "- Porter Stemmer: One of the most widely used stemming algorithms.\n",
    "- Lancaster Stemmer: More aggressive than Porter Stemmer.\n",
    "- Snowball Stemmer: An improved version of Porter Stemmer with support for multiple languages.\n",
    "- RegexpStemmer: regexp: str or regexp  \n",
    "A stemmer that uses regular expressions to identify morphological affixes. Any substrings that match the regular expressions will be removed."
   ]
  },
  {
   "cell_type": "code",
   "execution_count": 9,
   "metadata": {},
   "outputs": [
    {
     "name": "stdout",
     "output_type": "stream",
     "text": [
      "eating\n",
      "eaten\n",
      "ate\n",
      "eat\n",
      "running\n",
      "run\n",
      "runner\n",
      "ran\n",
      "doing\n",
      "does\n",
      "do\n",
      "done\n",
      "finally\n",
      "finalize\n",
      "writing\n",
      "writer\n",
      "writes\n",
      "programming\n",
      "programmer\n"
     ]
    }
   ],
   "source": [
    "words = [\"eating\",\"eaten\",\"ate\",\"eat\",\"running\",\"run\",\"runner\",\"ran\",\"doing\",\"does\",\"do\",\"done\",\"finally\",\"finalize\",\n",
    "         \"writing\",\"writer\",\"writes\",\"programming\",\"programmer\"]\n",
    "for i in words:\n",
    "    print(i)"
   ]
  },
  {
   "cell_type": "code",
   "execution_count": 5,
   "metadata": {},
   "outputs": [
    {
     "name": "stdout",
     "output_type": "stream",
     "text": [
      "eating ---------------> eat\n",
      "eaten ---------------> eaten\n",
      "ate ---------------> ate\n",
      "eat ---------------> eat\n",
      "running ---------------> run\n",
      "run ---------------> run\n",
      "runner ---------------> runner\n",
      "ran ---------------> ran\n",
      "doing ---------------> do\n",
      "does ---------------> doe\n",
      "do ---------------> do\n",
      "done ---------------> done\n",
      "finally ---------------> final\n",
      "finalize ---------------> final\n",
      "writing ---------------> write\n",
      "writer ---------------> writer\n",
      "writes ---------------> write\n",
      "programming ---------------> program\n",
      "programmer ---------------> programm\n"
     ]
    }
   ],
   "source": [
    "# Porter Stemmer\n",
    "from nltk.stem import PorterStemmer\n",
    "\n",
    "stemming = PorterStemmer()\n",
    "\n",
    "for word in words:\n",
    "    print(word+\" ---------------> \"+stemming.stem(word))"
   ]
  },
  {
   "cell_type": "code",
   "execution_count": 8,
   "metadata": {},
   "outputs": [
    {
     "name": "stdout",
     "output_type": "stream",
     "text": [
      "congratul\n",
      "congratulations!\n"
     ]
    }
   ],
   "source": [
    "print(stemming.stem('Congratulations'))\n",
    "print(stemming.stem('Congratulations!'))"
   ]
  },
  {
   "cell_type": "code",
   "execution_count": 10,
   "metadata": {},
   "outputs": [
    {
     "data": {
      "text/plain": [
       "'Congratulations'"
      ]
     },
     "execution_count": 10,
     "metadata": {},
     "output_type": "execute_result"
    }
   ],
   "source": [
    "# RegexpStemmer\n",
    " \n",
    "from nltk.stem import RegexpStemmer\n",
    "\n",
    "reg_stemmer = RegexpStemmer('ing$|s$|e$|able$|!$', min=4)   # min: The minimum length of string to stem\n",
    "\n",
    "reg_stemmer.stem('Congratulations!')"
   ]
  },
  {
   "cell_type": "code",
   "execution_count": 12,
   "metadata": {},
   "outputs": [
    {
     "data": {
      "text/plain": [
       "'Congratulation'"
      ]
     },
     "execution_count": 12,
     "metadata": {},
     "output_type": "execute_result"
    }
   ],
   "source": [
    "reg_stemmer.stem('Congratulations')"
   ]
  },
  {
   "cell_type": "code",
   "execution_count": 15,
   "metadata": {},
   "outputs": [
    {
     "data": {
      "text/plain": [
       "'eat'"
      ]
     },
     "execution_count": 15,
     "metadata": {},
     "output_type": "execute_result"
    }
   ],
   "source": [
    "## snowball stemmer\n",
    "\n",
    "from nltk.stem import SnowballStemmer\n",
    "\n",
    "snowb_stemmer = SnowballStemmer(\"english\")\n",
    "\n",
    "snowb_stemmer.stem('eating')"
   ]
  },
  {
   "cell_type": "code",
   "execution_count": 17,
   "metadata": {},
   "outputs": [
    {
     "name": "stdout",
     "output_type": "stream",
     "text": [
      "eating --------------------> eat\n",
      "eaten --------------------> eaten\n",
      "ate --------------------> ate\n",
      "eat --------------------> eat\n",
      "running --------------------> run\n",
      "run --------------------> run\n",
      "runner --------------------> runner\n",
      "ran --------------------> ran\n",
      "doing --------------------> do\n",
      "does --------------------> doe\n",
      "do --------------------> do\n",
      "done --------------------> done\n",
      "finally --------------------> final\n",
      "finalize --------------------> final\n",
      "writing --------------------> write\n",
      "writer --------------------> writer\n",
      "writes --------------------> write\n",
      "programming --------------------> program\n",
      "programmer --------------------> programm\n"
     ]
    }
   ],
   "source": [
    "for i in words:\n",
    "    print(i+\" --------------------> \"+snowb_stemmer.stem(i))"
   ]
  },
  {
   "cell_type": "code",
   "execution_count": 20,
   "metadata": {},
   "outputs": [
    {
     "data": {
      "text/plain": [
       "'congratul'"
      ]
     },
     "execution_count": 20,
     "metadata": {},
     "output_type": "execute_result"
    }
   ],
   "source": [
    "snowb_stemmer.stem('Congratulations')"
   ]
  },
  {
   "cell_type": "code",
   "execution_count": 21,
   "metadata": {},
   "outputs": [
    {
     "data": {
      "text/plain": [
       "'sport'"
      ]
     },
     "execution_count": 21,
     "metadata": {},
     "output_type": "execute_result"
    }
   ],
   "source": [
    "snowb_stemmer.stem('sportingly')"
   ]
  },
  {
   "cell_type": "code",
   "execution_count": 22,
   "metadata": {},
   "outputs": [
    {
     "data": {
      "text/plain": [
       "'sportingli'"
      ]
     },
     "execution_count": 22,
     "metadata": {},
     "output_type": "execute_result"
    }
   ],
   "source": [
    "stemming.stem('sportingly')"
   ]
  },
  {
   "cell_type": "code",
   "execution_count": 23,
   "metadata": {},
   "outputs": [
    {
     "data": {
      "text/plain": [
       "'sport'"
      ]
     },
     "execution_count": 23,
     "metadata": {},
     "output_type": "execute_result"
    }
   ],
   "source": [
    "## LancasterStemmer\n",
    "\n",
    "from nltk.stem import LancasterStemmer\n",
    "\n",
    "\n",
    "lan_stemmer = LancasterStemmer()\n",
    "\n",
    "lan_stemmer.stem(\"sportingly\")"
   ]
  },
  {
   "cell_type": "code",
   "execution_count": 24,
   "metadata": {},
   "outputs": [
    {
     "data": {
      "text/plain": [
       "'congrat'"
      ]
     },
     "execution_count": 24,
     "metadata": {},
     "output_type": "execute_result"
    }
   ],
   "source": [
    "lan_stemmer.stem('Congratulations')"
   ]
  },
  {
   "cell_type": "markdown",
   "metadata": {},
   "source": [
    "# End!"
   ]
  }
 ],
 "metadata": {
  "kernelspec": {
   "display_name": "base",
   "language": "python",
   "name": "python3"
  },
  "language_info": {
   "codemirror_mode": {
    "name": "ipython",
    "version": 3
   },
   "file_extension": ".py",
   "mimetype": "text/x-python",
   "name": "python",
   "nbconvert_exporter": "python",
   "pygments_lexer": "ipython3",
   "version": "3.10.9"
  }
 },
 "nbformat": 4,
 "nbformat_minor": 2
}
