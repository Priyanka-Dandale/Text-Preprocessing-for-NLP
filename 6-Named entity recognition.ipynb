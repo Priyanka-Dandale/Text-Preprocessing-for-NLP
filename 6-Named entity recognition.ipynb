{
 "cells": [
  {
   "cell_type": "markdown",
   "metadata": {},
   "source": [
    "#### Named Entity Recognition\n",
    "\n",
    "**Named Entity Recognition (NER)** is an important task in Natural Language Processing (NLP) that involves identifying and classifying entities in text into predefined categories such as:  \n",
    "\n",
    "- Person Names (e.g., \"John\", \"Priyanka\")\n",
    "- Organizations (e.g., \"Google\", \"UN\")\n",
    "- Locations (e.g., \"New York\", \"India\")\n",
    "- Dates/Times (e.g., \"January 1, 2023\")\n",
    "- Monetary Values (e.g., \"$100\", \"200 INR\")  \n",
    "\n",
    "**Purpose of NER**  \n",
    "- Extract structured information from unstructured text.\n",
    "- Useful in information retrieval, question answering, and text summarization tasks."
   ]
  },
  {
   "cell_type": "code",
   "execution_count": 1,
   "metadata": {},
   "outputs": [],
   "source": [
    "sentence = \"\"\"The Taj Mahal, an ivory-white marble mausoleum situated on the southern bank of the Yamuna River in Agra, India, is a UNESCO World Heritage Site built by Mughal Emperor Shah Jahan in memory of his beloved wife Mumtaz Mahal; renowned worldwide as a symbol of eternal love, this architectural marvel seamlessly combines Persian, Islamic, and Indian architectural styles, attracting millions of visitors each year who are captivated by its symmetrical gardens, intricate carvings, and the mesmerizing reflection it casts on the surrounding water features.\"\"\""
   ]
  },
  {
   "cell_type": "code",
   "execution_count": 3,
   "metadata": {},
   "outputs": [
    {
     "name": "stdout",
     "output_type": "stream",
     "text": [
      "['The', 'Taj', 'Mahal', ',', 'an', 'ivory-white', 'marble', 'mausoleum', 'situated', 'on']\n"
     ]
    }
   ],
   "source": [
    "import nltk\n",
    "\n",
    "words = nltk.word_tokenize(sentence)\n",
    "print(words[:10])"
   ]
  },
  {
   "cell_type": "code",
   "execution_count": 5,
   "metadata": {},
   "outputs": [
    {
     "name": "stdout",
     "output_type": "stream",
     "text": [
      "[('The', 'DT'), ('Taj', 'NNP'), ('Mahal', 'NNP'), (',', ','), ('an', 'DT'), ('ivory-white', 'JJ'), ('marble', 'NN'), ('mausoleum', 'NN'), ('situated', 'VBN'), ('on', 'IN')]\n"
     ]
    }
   ],
   "source": [
    "tags = nltk.pos_tag(words)\n",
    "print(tags[:10])"
   ]
  },
  {
   "cell_type": "code",
   "execution_count": 7,
   "metadata": {},
   "outputs": [
    {
     "name": "stderr",
     "output_type": "stream",
     "text": [
      "[nltk_data] Downloading package maxent_ne_chunker_tab to\n",
      "[nltk_data]     C:\\Users\\Dell\\AppData\\Roaming\\nltk_data...\n",
      "[nltk_data]   Unzipping chunkers\\maxent_ne_chunker_tab.zip.\n"
     ]
    },
    {
     "data": {
      "text/plain": [
       "True"
      ]
     },
     "execution_count": 7,
     "metadata": {},
     "output_type": "execute_result"
    }
   ],
   "source": [
    "nltk.download('maxent_ne_chunker_tab')"
   ]
  },
  {
   "cell_type": "code",
   "execution_count": 11,
   "metadata": {},
   "outputs": [
    {
     "name": "stderr",
     "output_type": "stream",
     "text": [
      "[nltk_data] Downloading package words to\n",
      "[nltk_data]     C:\\Users\\Dell\\AppData\\Roaming\\nltk_data...\n",
      "[nltk_data]   Unzipping corpora\\words.zip.\n"
     ]
    },
    {
     "data": {
      "text/plain": [
       "True"
      ]
     },
     "execution_count": 11,
     "metadata": {},
     "output_type": "execute_result"
    }
   ],
   "source": [
    "nltk.download('words')"
   ]
  },
  {
   "cell_type": "code",
   "execution_count": 12,
   "metadata": {},
   "outputs": [],
   "source": [
    "\n",
    "nltk.ne_chunk(tags).draw()"
   ]
  },
  {
   "cell_type": "markdown",
   "metadata": {},
   "source": [
    "# End!"
   ]
  }
 ],
 "metadata": {
  "kernelspec": {
   "display_name": "nltk_env",
   "language": "python",
   "name": "python3"
  },
  "language_info": {
   "codemirror_mode": {
    "name": "ipython",
    "version": 3
   },
   "file_extension": ".py",
   "mimetype": "text/x-python",
   "name": "python",
   "nbconvert_exporter": "python",
   "pygments_lexer": "ipython3",
   "version": "3.10.11"
  }
 },
 "nbformat": 4,
 "nbformat_minor": 2
}
